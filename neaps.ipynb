{
 "cells": [
  {
   "cell_type": "markdown",
   "metadata": {},
   "source": [
    "# Chunking and SQLite\n",
    "\n",
    "In this notebook, we'll see a couple of techniques that can be used when working with large file in Python."
   ]
  },
  {
   "cell_type": "code",
   "execution_count": 2,
   "metadata": {},
   "outputs": [],
   "source": [
    "import pandas as pd\n",
    "import numpy as np\n",
    "import sqlite3\n",
    "from tqdm.notebook import tqdm"
   ]
  },
  {
   "cell_type": "code",
   "execution_count": 4,
   "metadata": {},
   "outputs": [],
   "source": [
    "db = sqlite3.connect('nppes.sqlite')"
   ]
  },
  {
   "cell_type": "markdown",
   "metadata": {},
   "source": [
    "Before we do anything else, let's see how many rows are contained in the Calls for Service file. "
   ]
  },
  {
   "cell_type": "code",
   "execution_count": null,
   "metadata": {},
   "outputs": [],
   "source": [
    "#using terminal  \"wc -l file.txt\""
   ]
  },
  {
   "cell_type": "code",
   "execution_count": null,
   "metadata": {},
   "outputs": [],
   "source": [
    "npi_cols=['NPI',\n",
    " 'Entity Type Code',\n",
    " 'Replacement NPI',\n",
    " 'Employer Identification Number (EIN)',\n",
    " 'Provider Organization Name (Legal Business Name)',\n",
    " 'Provider Last Name (Legal Name)',\n",
    " 'Provider First Name',\n",
    " 'Provider Credential Text',\n",
    " 'Provider First Line Business Practice Location Address',\n",
    " 'Provider Second Line Business Practice Location Address',\n",
    " 'Provider Business Practice Location Address City Name',\n",
    " 'Provider Business Practice Location Address State Name',\n",
    " 'Provider Business Practice Location Address Postal Code',\n",
    " 'Provider Gender Code',\n",
    " 'Healthcare Provider Taxonomy Code_1',\n",
    " 'Healthcare Provider Primary Taxonomy Switch_1',\n",
    " 'Healthcare Provider Taxonomy Code_2',\n",
    " 'Healthcare Provider Primary Taxonomy Switch_2',\n",
    " 'Healthcare Provider Taxonomy Code_3',\n",
    " 'Healthcare Provider Primary Taxonomy Switch_3',\n",
    " 'Healthcare Provider Taxonomy Code_4',\n",
    " 'Healthcare Provider Primary Taxonomy Switch_4',\n",
    " 'Healthcare Provider Taxonomy Code_5',\n",
    " 'Healthcare Provider Primary Taxonomy Switch_5',\n",
    " 'Healthcare Provider Taxonomy Code_6',\n",
    " 'Healthcare Provider Primary Taxonomy Switch_6',\n",
    " 'Healthcare Provider Taxonomy Code_7',\n",
    " 'Healthcare Provider Primary Taxonomy Switch_7',\n",
    " 'Healthcare Provider Taxonomy Code_8',\n",
    " 'Healthcare Provider Primary Taxonomy Switch_8',\n",
    " 'Healthcare Provider Taxonomy Code_9',\n",
    " 'Healthcare Provider Primary Taxonomy Switch_9',\n",
    " 'Healthcare Provider Taxonomy Code_10',\n",
    " 'Healthcare Provider Primary Taxonomy Switch_10',\n",
    " 'Healthcare Provider Taxonomy Code_11',\n",
    " 'Healthcare Provider Primary Taxonomy Switch_11',\n",
    " 'Healthcare Provider Taxonomy Code_12',\n",
    " 'Healthcare Provider Primary Taxonomy Switch_12',\n",
    " 'Healthcare Provider Taxonomy Code_13',\n",
    " 'Healthcare Provider Primary Taxonomy Switch_13',\n",
    " 'Healthcare Provider Taxonomy Code_14',\n",
    " 'Healthcare Provider Primary Taxonomy Switch_14',\n",
    " 'Healthcare Provider Taxonomy Code_15',\n",
    " 'Healthcare Provider Primary Taxonomy Switch_15']"
   ]
  },
  {
   "cell_type": "markdown",
   "metadata": {},
   "source": [
    "First, we need to connect to our database. The connect function will either create a new database if one does not already exist or connect to an existing one."
   ]
  },
  {
   "cell_type": "markdown",
   "metadata": {},
   "source": [
    "Now, we can chunk through the data and for each row, add the rows to a table in our sqlite database. \n",
    "To keep track of how much progress has been made, we can use the `tqdm` library."
   ]
  },
  {
   "cell_type": "code",
   "execution_count": null,
   "metadata": {},
   "outputs": [],
   "source": [
    "#create a function to loop through taxonomy of providers code\n",
    "def find_primary_code(row):\n",
    "    for i in range(1,16):\n",
    "        if row[f'healthcare_provider_primary_taxonomy_switch_{i}']=='Y':\n",
    "            return row[f'healthcare_provider_taxonomy_code_{i}']\n",
    "#chunking in\n",
    "for chunk in tqdm(pd.read_csv('NPPES_Data_Dissemination_February_2021/npidata_pfile_20050523-20210207.csv', usecols=npi_cols, chunksize = 10000)):\n",
    "    chunk.columns = [x.lower().replace(' ', '_').replace('(', '').replace(')','').replace('*','') for x in chunk.columns]      # Clean up the column names\n",
    "    chunk['taxonomy']= chunk.apply(lambda row: find_primary_code(row), axis=1)  #use the function above to create taxonomy column\n",
    "    chunk=chunk[chunk.columns.drop(list(chunk.filter(regex='healthcare_provider_')))] #drop providers taxonomy code colums not needed anymore\n",
    "    chunk.to_sql('npi_data', db, if_exists = 'append', index = False)\n"
   ]
  },
  {
   "cell_type": "code",
   "execution_count": null,
   "metadata": {},
   "outputs": [],
   "source": [
    "db.close()"
   ]
  },
  {
   "cell_type": "code",
   "execution_count": null,
   "metadata": {
    "scrolled": false
   },
   "outputs": [],
   "source": [
    "#pull the npi_data back to pandas and make data frame\n",
    "\n",
    "db = sqlite3.connect('nppes.sqlite')\n",
    "query='''\n",
    "select *\n",
    "from npi_data\n",
    "order by npi;\n",
    "'''\n",
    "npi_data = pd.read_sql(query, db)\n",
    "npi_data"
   ]
  },
  {
   "cell_type": "code",
   "execution_count": null,
   "metadata": {},
   "outputs": [],
   "source": [
    "db.close()"
   ]
  },
  {
   "cell_type": "code",
   "execution_count": null,
   "metadata": {},
   "outputs": [],
   "source": [
    "npi_data.duplicated(subset=['npi']).value_counts() #check for duplicates in npi incase chunking and appending created duplicate"
   ]
  },
  {
   "cell_type": "code",
   "execution_count": null,
   "metadata": {},
   "outputs": [],
   "source": [
    "npi_data=npi_data.drop_duplicates(subset=['npi'])"
   ]
  },
  {
   "cell_type": "code",
   "execution_count": null,
   "metadata": {},
   "outputs": [],
   "source": [
    "#add the nucc_taxtable to nppes database \n",
    "db = sqlite3.connect('nppes.sqlite')\n",
    "nucc_tax=pd.read_csv('NPPES_Data_Dissemination_February_2021/nucc_taxonomy_210.csv')\n",
    "nucc_tax.columns = [x.lower().replace(' ', '_') for x in nucc_tax.columns]\n",
    "nucc_tax.to_sql('nucc_tax', db,  if_exists='append', index = False)    \n"
   ]
  },
  {
   "cell_type": "code",
   "execution_count": null,
   "metadata": {},
   "outputs": [],
   "source": [
    "#pull the nucc_tax back to pandas and make data frame\n",
    "query='''\n",
    "select *\n",
    "from nucc_tax;\n",
    "'''\n",
    "nucc_tax = pd.read_sql(query, db)\n",
    "nucc_tax"
   ]
  },
  {
   "cell_type": "code",
   "execution_count": null,
   "metadata": {},
   "outputs": [],
   "source": [
    "db.close()"
   ]
  },
  {
   "cell_type": "code",
   "execution_count": null,
   "metadata": {},
   "outputs": [],
   "source": [
    "nucc_tax.info()"
   ]
  },
  {
   "cell_type": "markdown",
   "metadata": {},
   "source": [
    "To speed up queries which use a specific column, we can create an **index** on that column. This causes the database to store that column in a way that helps it to retrieve rows quicker."
   ]
  },
  {
   "cell_type": "code",
   "execution_count": null,
   "metadata": {},
   "outputs": [],
   "source": [
    "#db = sqlite3.connect('nppes.sqlite')\n",
    "#db.execute('CREATE INDEX taxonomy ON npi_data(taxonomy)')\n",
    "#db.execute('CREATE INDEX code ON nucc_tax(code)')"
   ]
  },
  {
   "cell_type": "code",
   "execution_count": null,
   "metadata": {},
   "outputs": [],
   "source": [
    "#add the cbsa table to nppes database \n",
    "\n",
    "db = sqlite3.connect('nppes.sqlite')\n",
    "cbsa=pd.read_csv('NPPES_Data_Dissemination_February_2021/ZIP_CBSA_122020.csv')\n",
    "cbsa.columns = [x.lower().replace(' ', '_') for x in cbsa.columns]\n",
    "cbsa.to_sql('cbsa', db,  if_exists='append', index = False)"
   ]
  },
  {
   "cell_type": "code",
   "execution_count": null,
   "metadata": {},
   "outputs": [],
   "source": [
    "#pull the cbsa back to pandas and make data frame\n",
    "db = sqlite3.connect('nppes.sqlite')\n",
    "query= '''\n",
    "select *       \n",
    "from cbsa \n",
    "'''\n",
    "cbsa = pd.read_sql(query, db)\n",
    "cbsa"
   ]
  },
  {
   "cell_type": "code",
   "execution_count": null,
   "metadata": {},
   "outputs": [],
   "source": [
    "#db = sqlite3.connect('nppes.sqlite')\n",
    "#query= '''\n",
    "#select *      \n",
    "#from npi_data as np\n",
    "#left join nucc_tax as nu\n",
    "#on np.taxonomy=nu.code \n",
    "#join cbsa as c\n",
    "#on np.provider_business_practice_location_address_postal_code=c.zip '''\n",
    "#npp_nucc_tax = pd.read_sql(query, db)\n",
    "#npp_nucc_tax"
   ]
  },
  {
   "cell_type": "code",
   "execution_count": null,
   "metadata": {},
   "outputs": [],
   "source": [
    "cbsa.info()"
   ]
  },
  {
   "cell_type": "code",
   "execution_count": null,
   "metadata": {},
   "outputs": [],
   "source": [
    "#left merge npi_data frame to nucc_tax (lefet merge to preserve all data on npi_data) These cal also be achived by hashed sqlite code abo\n",
    "\n",
    "npp_nucc=pd.merge(npi_data, nucc_tax,left_on='taxonomy', right_on='code', how='left')"
   ]
  },
  {
   "cell_type": "code",
   "execution_count": null,
   "metadata": {
    "scrolled": true
   },
   "outputs": [],
   "source": [
    "df.duplicated(subset=['npi'], ).value_counts()"
   ]
  },
  {
   "cell_type": "code",
   "execution_count": null,
   "metadata": {},
   "outputs": [],
   "source": [
    "npp_nucc.duplicated(subset=['npi']).value_counts()"
   ]
  },
  {
   "cell_type": "code",
   "execution_count": null,
   "metadata": {},
   "outputs": [],
   "source": [
    "npp_nucc.head(50)\n"
   ]
  },
  {
   "cell_type": "code",
   "execution_count": null,
   "metadata": {},
   "outputs": [],
   "source": [
    "#the postal_code and zip have diffrent length digits and data type. convert to string and get the first five digits\n",
    "\n",
    "npp_nucc['postal_code']=npp_nucc['provider_business_practice_location_address_postal_code'].astype(str).str[0:5]\n",
    "\n",
    "cbsa['zip1']=cbsa['zip'].astype(str).str[0:5]\n"
   ]
  },
  {
   "cell_type": "code",
   "execution_count": null,
   "metadata": {},
   "outputs": [],
   "source": [
    "#merge cbsa data frame to npi_data + nucc_tax data from previous merge\n",
    "npp_nucc_cbsa=pd.merge(npp_nucc, cbsa,left_on= 'postal_code', right_on='zip1', how='left')"
   ]
  },
  {
   "cell_type": "code",
   "execution_count": null,
   "metadata": {},
   "outputs": [],
   "source": [
    "npp_nucc_cbsa.duplicated(subset=['npi']).value_counts()"
   ]
  },
  {
   "cell_type": "code",
   "execution_count": null,
   "metadata": {},
   "outputs": [],
   "source": [
    "#drop duplicates due to zip matching multiple cbsa based on tot_ratio column\n",
    "npp_nucc_cbsa=npp_nucc_cbsa.sort_values(by=['npi','tot_ratio']).drop_duplicates('npi', keep='last')"
   ]
  },
  {
   "cell_type": "code",
   "execution_count": null,
   "metadata": {},
   "outputs": [],
   "source": [
    "#subset only to nashville area cbsa\n",
    "npp_nucc_cbsa_nash=npp_nucc_cbsa[npp_nucc_cbsa['cbsa']==34980]\n"
   ]
  },
  {
   "cell_type": "code",
   "execution_count": null,
   "metadata": {},
   "outputs": [],
   "source": [
    "#save the nashville area cbsa filse to csv (it has 38414 rows × 36 columns)\n",
    "npp_nucc_cbsa_nash.to_csv('npp_taxo_cbsa_nash.csv',index=False)"
   ]
  },
  {
   "cell_type": "code",
   "execution_count": null,
   "metadata": {},
   "outputs": [],
   "source": [
    "npp_nucc_cbsa[['npi','specialization','zip']].head(50)"
   ]
  },
  {
   "cell_type": "code",
   "execution_count": null,
   "metadata": {},
   "outputs": [],
   "source": [
    "#add hop table to nppes database while also subseting on transaction and avarage wait days\n",
    "\n",
    "db = sqlite3.connect('nppes.sqlite')\n",
    "for chunk in tqdm(pd.read_csv('DocGraph_Hop_Teaming_2017_Non_Commercial/DocGraph_Hop_Teaming_2017.csv', chunksize = 100000)):\n",
    "    chunk=chunk[(chunk['transaction_count']>=50) | (chunk['average_day_wait']<=50)]\n",
    "    chunk.to_sql('hop', db, if_exists ='append', index = False)\n"
   ]
  },
  {
   "cell_type": "code",
   "execution_count": 4,
   "metadata": {},
   "outputs": [
    {
     "data": {
      "text/html": [
       "<div>\n",
       "<style scoped>\n",
       "    .dataframe tbody tr th:only-of-type {\n",
       "        vertical-align: middle;\n",
       "    }\n",
       "\n",
       "    .dataframe tbody tr th {\n",
       "        vertical-align: top;\n",
       "    }\n",
       "\n",
       "    .dataframe thead th {\n",
       "        text-align: right;\n",
       "    }\n",
       "</style>\n",
       "<table border=\"1\" class=\"dataframe\">\n",
       "  <thead>\n",
       "    <tr style=\"text-align: right;\">\n",
       "      <th></th>\n",
       "      <th>from_npi</th>\n",
       "      <th>to_npi</th>\n",
       "      <th>patient_count</th>\n",
       "      <th>transaction_count</th>\n",
       "      <th>average_day_wait</th>\n",
       "      <th>std_day_wait</th>\n",
       "    </tr>\n",
       "  </thead>\n",
       "  <tbody>\n",
       "    <tr>\n",
       "      <th>0</th>\n",
       "      <td>1033142146</td>\n",
       "      <td>1000000004</td>\n",
       "      <td>491</td>\n",
       "      <td>535</td>\n",
       "      <td>10.232</td>\n",
       "      <td>36.558</td>\n",
       "    </tr>\n",
       "    <tr>\n",
       "      <th>1</th>\n",
       "      <td>1013952357</td>\n",
       "      <td>1000000004</td>\n",
       "      <td>20</td>\n",
       "      <td>20</td>\n",
       "      <td>21.100</td>\n",
       "      <td>66.988</td>\n",
       "    </tr>\n",
       "    <tr>\n",
       "      <th>2</th>\n",
       "      <td>1013977990</td>\n",
       "      <td>1003000126</td>\n",
       "      <td>134</td>\n",
       "      <td>145</td>\n",
       "      <td>27.352</td>\n",
       "      <td>51.137</td>\n",
       "    </tr>\n",
       "    <tr>\n",
       "      <th>3</th>\n",
       "      <td>1023008182</td>\n",
       "      <td>1003000126</td>\n",
       "      <td>13</td>\n",
       "      <td>14</td>\n",
       "      <td>21.643</td>\n",
       "      <td>58.885</td>\n",
       "    </tr>\n",
       "    <tr>\n",
       "      <th>4</th>\n",
       "      <td>1013996669</td>\n",
       "      <td>1003000126</td>\n",
       "      <td>91</td>\n",
       "      <td>92</td>\n",
       "      <td>35.152</td>\n",
       "      <td>68.009</td>\n",
       "    </tr>\n",
       "    <tr>\n",
       "      <th>...</th>\n",
       "      <td>...</td>\n",
       "      <td>...</td>\n",
       "      <td>...</td>\n",
       "      <td>...</td>\n",
       "      <td>...</td>\n",
       "      <td>...</td>\n",
       "    </tr>\n",
       "    <tr>\n",
       "      <th>165242551</th>\n",
       "      <td>1235159252</td>\n",
       "      <td>1255367132</td>\n",
       "      <td>11</td>\n",
       "      <td>11</td>\n",
       "      <td>32.182</td>\n",
       "      <td>47.657</td>\n",
       "    </tr>\n",
       "    <tr>\n",
       "      <th>165242552</th>\n",
       "      <td>1235291360</td>\n",
       "      <td>1255367132</td>\n",
       "      <td>12</td>\n",
       "      <td>13</td>\n",
       "      <td>44.769</td>\n",
       "      <td>96.969</td>\n",
       "    </tr>\n",
       "    <tr>\n",
       "      <th>165242553</th>\n",
       "      <td>1235180266</td>\n",
       "      <td>1255367132</td>\n",
       "      <td>23</td>\n",
       "      <td>23</td>\n",
       "      <td>13.739</td>\n",
       "      <td>21.020</td>\n",
       "    </tr>\n",
       "    <tr>\n",
       "      <th>165242554</th>\n",
       "      <td>1265448617</td>\n",
       "      <td>1255367132</td>\n",
       "      <td>15</td>\n",
       "      <td>16</td>\n",
       "      <td>10.938</td>\n",
       "      <td>25.702</td>\n",
       "    </tr>\n",
       "    <tr>\n",
       "      <th>165242555</th>\n",
       "      <td>1265437644</td>\n",
       "      <td>1255367132</td>\n",
       "      <td>78</td>\n",
       "      <td>82</td>\n",
       "      <td>26.561</td>\n",
       "      <td>51.304</td>\n",
       "    </tr>\n",
       "  </tbody>\n",
       "</table>\n",
       "<p>165242556 rows × 6 columns</p>\n",
       "</div>"
      ],
      "text/plain": [
       "             from_npi      to_npi  patient_count  transaction_count  \\\n",
       "0          1033142146  1000000004            491                535   \n",
       "1          1013952357  1000000004             20                 20   \n",
       "2          1013977990  1003000126            134                145   \n",
       "3          1023008182  1003000126             13                 14   \n",
       "4          1013996669  1003000126             91                 92   \n",
       "...               ...         ...            ...                ...   \n",
       "165242551  1235159252  1255367132             11                 11   \n",
       "165242552  1235291360  1255367132             12                 13   \n",
       "165242553  1235180266  1255367132             23                 23   \n",
       "165242554  1265448617  1255367132             15                 16   \n",
       "165242555  1265437644  1255367132             78                 82   \n",
       "\n",
       "           average_day_wait  std_day_wait  \n",
       "0                    10.232        36.558  \n",
       "1                    21.100        66.988  \n",
       "2                    27.352        51.137  \n",
       "3                    21.643        58.885  \n",
       "4                    35.152        68.009  \n",
       "...                     ...           ...  \n",
       "165242551            32.182        47.657  \n",
       "165242552            44.769        96.969  \n",
       "165242553            13.739        21.020  \n",
       "165242554            10.938        25.702  \n",
       "165242555            26.561        51.304  \n",
       "\n",
       "[165242556 rows x 6 columns]"
      ]
     },
     "execution_count": 4,
     "metadata": {},
     "output_type": "execute_result"
    }
   ],
   "source": [
    "#pull the hop table using pandas to data frame\n",
    "\n",
    "db = sqlite3.connect('nppes.sqlite')\n",
    "query='''\n",
    "select *\n",
    "from hop;\n",
    "'''\n",
    "hop_team = pd.read_sql(query, db)\n",
    "hop_team "
   ]
  },
  {
   "cell_type": "code",
   "execution_count": null,
   "metadata": {},
   "outputs": [],
   "source": [
    "db.close()"
   ]
  },
  {
   "cell_type": "markdown",
   "metadata": {},
   "source": [
    "# Here I was thinking about edge wise column, so I concatnated (vertical) the two merges above. something to explore later. I shift to horizontal merging."
   ]
  },
  {
   "cell_type": "code",
   "execution_count": 5,
   "metadata": {},
   "outputs": [],
   "source": [
    "npp_nucc_cbsa_nash=pd.read_csv('npp_taxo_cbsa_nash.csv') \n"
   ]
  },
  {
   "cell_type": "code",
   "execution_count": 6,
   "metadata": {},
   "outputs": [],
   "source": [
    "\n",
    "#This is memory expensive method. so, I am hashing it\n",
    "#npp_nucc_cbsa_nash_hop=pd.merge(npp_nucc_cbsa_nash, hop_team, left_on= 'npi', right_on='from_npi', how='inner')"
   ]
  },
  {
   "cell_type": "code",
   "execution_count": 4,
   "metadata": {
    "scrolled": true
   },
   "outputs": [],
   "source": [
    "#npp_nucc_cbsa_nash_hop.columns.tolist()"
   ]
  },
  {
   "cell_type": "code",
   "execution_count": 7,
   "metadata": {},
   "outputs": [],
   "source": [
    "#npp_nucc_cbsa_nash_hop_from=npp_nucc_cbsa_nash_hop.drop(\n",
    "    #columns=[\n",
    "        'replacement_npi',\n",
    "        'employer_identification_number_ein',\n",
    "        'provider_name_prefix_text',\n",
    "        'provider_name_suffix_text',\n",
    "        'provider_first_line_business_practice_location_address',\n",
    "        'provider_second_line_business_practice_location_address',\n",
    "        'provider_business_practice_location_address_state_name',\n",
    "        'provider_gender_code',\n",
    "        'taxonomy',\n",
    "        'code',\n",
    "        'effective_date',\n",
    "        'deactivation_date',\n",
    "        'last_modified_date',\n",
    "        'notes',\n",
    "        'display_name',\n",
    "        'zip',\n",
    "        'cbsa',\n",
    "        'res_ratio',\n",
    "        'bus_ratio',\n",
    "        'oth_ratio',\n",
    "        'tot_ratio',\n",
    "        'zip1'])"
   ]
  },
  {
   "cell_type": "code",
   "execution_count": 8,
   "metadata": {},
   "outputs": [],
   "source": []
  },
  {
   "cell_type": "code",
   "execution_count": null,
   "metadata": {},
   "outputs": [],
   "source": [
    "#npp_nucc_cbsa_nash_hop_from_to=pd.merge(npp_nucc_cbsa_nash_hop_from, hop_team, left_on= 'npi', right_on='to_npi', how='inner')"
   ]
  },
  {
   "cell_type": "code",
   "execution_count": null,
   "metadata": {},
   "outputs": [],
   "source": [
    "#npp_nucc_cbsa_nash_hop_horiz=pd.merge(npp_nucc_cbsa_nash_hop, hop_team, left_on= 'npi', right_on='to_npi', how='inner')"
   ]
  },
  {
   "cell_type": "code",
   "execution_count": null,
   "metadata": {},
   "outputs": [],
   "source": [
    "#npp_nucc_cbsa_nash_hop_from_to.info()"
   ]
  },
  {
   "cell_type": "code",
   "execution_count": null,
   "metadata": {},
   "outputs": [],
   "source": [
    "#npp_nucc_cbsa_nash_hop=npp_nucc_cbsa_nash_hop[npp_nucc_cbsa_nash_hop['entity_type_code']==1]"
   ]
  },
  {
   "cell_type": "code",
   "execution_count": null,
   "metadata": {},
   "outputs": [],
   "source": [
    "#npp_nucc_cbsa_nash_hop.to_csv('npp_nucc_cbsa_nash_hop_from.csv',index=False)"
   ]
  },
  {
   "cell_type": "code",
   "execution_count": null,
   "metadata": {},
   "outputs": [],
   "source": [
    "#npp_nucc_cbsa_nash_hop1=npp_nucc_cbsa_nash_hop1[npp_nucc_cbsa_nash_hop1['entity_type_code']==2]"
   ]
  },
  {
   "cell_type": "code",
   "execution_count": null,
   "metadata": {},
   "outputs": [],
   "source": [
    "#npp_nucc_cbsa_nash_hop1.to_csv('npp_nucc_cbsa_nash_hop_to.csv',index=False)"
   ]
  },
  {
   "cell_type": "code",
   "execution_count": null,
   "metadata": {},
   "outputs": [],
   "source": [
    "#npp_hop_dfs=[npp_nucc_cbsa_nash_hop,npp_nucc_cbsa_nash_hop1]"
   ]
  },
  {
   "cell_type": "code",
   "execution_count": null,
   "metadata": {},
   "outputs": [],
   "source": [
    "#npp_nucc_cbsa_nash_hop_all=pd.concat(npp_hop_dfs, keys=['from', 'to'])"
   ]
  },
  {
   "cell_type": "code",
   "execution_count": null,
   "metadata": {},
   "outputs": [],
   "source": [
    "#npp_nucc_cbsa_nash_hop_all.to_csv('npp_nucc_cbsa_nash_hopall.csv',index=False)"
   ]
  },
  {
   "cell_type": "code",
   "execution_count": null,
   "metadata": {},
   "outputs": [],
   "source": [
    "#npp_nucc_cbsa_nash_hop_all.info()"
   ]
  },
  {
   "cell_type": "code",
   "execution_count": null,
   "metadata": {},
   "outputs": [],
   "source": [
    "#back to sqlite for merging nashville_npi and hope_team data horizontally"
   ]
  },
  {
   "cell_type": "code",
   "execution_count": null,
   "metadata": {},
   "outputs": [],
   "source": [
    "#add nashville npp_taxo_cbsa_nash to nppes database as table\n",
    "db = sqlite3.connect('nppes.sqlite')\n",
    "for chunk in tqdm(pd.read_csv('npp_taxo_cbsa_nash.csv', chunksize = 10000)):\n",
    "    chunk.to_sql('nash_npp', db, if_exists ='append', index = False)"
   ]
  },
  {
   "cell_type": "code",
   "execution_count": null,
   "metadata": {},
   "outputs": [],
   "source": [
    "#create index on npi in each table for merging speeed\n",
    "\n",
    "db = sqlite3.connect('nppes.sqlite')\n",
    "db.execute('CREATE INDEX npi ON nash_npp(npi)')\n",
    "db.execute('CREATE INDEX npif ON hop(from_npi)')\n",
    "db.execute('CREATE INDEX npit ON hop(to_npi)')"
   ]
  },
  {
   "cell_type": "code",
   "execution_count": null,
   "metadata": {},
   "outputs": [],
   "source": [
    "db.close()"
   ]
  },
  {
   "cell_type": "code",
   "execution_count": 3,
   "metadata": {},
   "outputs": [
    {
     "data": {
      "text/html": [
       "<div>\n",
       "<style scoped>\n",
       "    .dataframe tbody tr th:only-of-type {\n",
       "        vertical-align: middle;\n",
       "    }\n",
       "\n",
       "    .dataframe tbody tr th {\n",
       "        vertical-align: top;\n",
       "    }\n",
       "\n",
       "    .dataframe thead th {\n",
       "        text-align: right;\n",
       "    }\n",
       "</style>\n",
       "<table border=\"1\" class=\"dataframe\">\n",
       "  <thead>\n",
       "    <tr style=\"text-align: right;\">\n",
       "      <th></th>\n",
       "      <th>entity_type_code</th>\n",
       "      <th>employer_identification_number_ein</th>\n",
       "      <th>provider_organization_name_legal_business_name</th>\n",
       "      <th>provider_last_name_legal_name</th>\n",
       "      <th>provider_first_name</th>\n",
       "      <th>provider_business_practice_location_address_city_name</th>\n",
       "      <th>provider_gender_code</th>\n",
       "      <th>grouping</th>\n",
       "      <th>classification</th>\n",
       "      <th>specialization</th>\n",
       "      <th>...</th>\n",
       "      <th>provider_gender_code_to</th>\n",
       "      <th>grouping_to</th>\n",
       "      <th>classification_to</th>\n",
       "      <th>specialization_to</th>\n",
       "      <th>from_npi</th>\n",
       "      <th>to_npi</th>\n",
       "      <th>patient_count</th>\n",
       "      <th>transaction_count</th>\n",
       "      <th>average_day_wait</th>\n",
       "      <th>std_day_wait</th>\n",
       "    </tr>\n",
       "  </thead>\n",
       "  <tbody>\n",
       "    <tr>\n",
       "      <th>0</th>\n",
       "      <td>1.0</td>\n",
       "      <td>None</td>\n",
       "      <td>None</td>\n",
       "      <td>REZK</td>\n",
       "      <td>HANY</td>\n",
       "      <td>COLUMBIA</td>\n",
       "      <td>M</td>\n",
       "      <td>Allopathic &amp; Osteopathic Physicians</td>\n",
       "      <td>Internal Medicine</td>\n",
       "      <td>Nephrology</td>\n",
       "      <td>...</td>\n",
       "      <td>None</td>\n",
       "      <td>Allopathic &amp; Osteopathic Physicians</td>\n",
       "      <td>Dermatology</td>\n",
       "      <td>None</td>\n",
       "      <td>1033297429</td>\n",
       "      <td>1003028770</td>\n",
       "      <td>56</td>\n",
       "      <td>62</td>\n",
       "      <td>53.145</td>\n",
       "      <td>58.831</td>\n",
       "    </tr>\n",
       "    <tr>\n",
       "      <th>1</th>\n",
       "      <td>1.0</td>\n",
       "      <td>None</td>\n",
       "      <td>None</td>\n",
       "      <td>MAHONEY</td>\n",
       "      <td>ROBERT</td>\n",
       "      <td>NASHVILLE</td>\n",
       "      <td>M</td>\n",
       "      <td>Allopathic &amp; Osteopathic Physicians</td>\n",
       "      <td>Radiology</td>\n",
       "      <td>Diagnostic Radiology</td>\n",
       "      <td>...</td>\n",
       "      <td>None</td>\n",
       "      <td>Allopathic &amp; Osteopathic Physicians</td>\n",
       "      <td>Dermatology</td>\n",
       "      <td>None</td>\n",
       "      <td>1043206329</td>\n",
       "      <td>1003028770</td>\n",
       "      <td>173</td>\n",
       "      <td>177</td>\n",
       "      <td>97.864</td>\n",
       "      <td>81.756</td>\n",
       "    </tr>\n",
       "    <tr>\n",
       "      <th>2</th>\n",
       "      <td>1.0</td>\n",
       "      <td>None</td>\n",
       "      <td>None</td>\n",
       "      <td>WIESMAN</td>\n",
       "      <td>H</td>\n",
       "      <td>COLUMBIA</td>\n",
       "      <td>M</td>\n",
       "      <td>Allopathic &amp; Osteopathic Physicians</td>\n",
       "      <td>Orthopaedic Surgery</td>\n",
       "      <td>None</td>\n",
       "      <td>...</td>\n",
       "      <td>None</td>\n",
       "      <td>Allopathic &amp; Osteopathic Physicians</td>\n",
       "      <td>Dermatology</td>\n",
       "      <td>None</td>\n",
       "      <td>1003922881</td>\n",
       "      <td>1003028770</td>\n",
       "      <td>17</td>\n",
       "      <td>21</td>\n",
       "      <td>45.619</td>\n",
       "      <td>41.519</td>\n",
       "    </tr>\n",
       "    <tr>\n",
       "      <th>3</th>\n",
       "      <td>1.0</td>\n",
       "      <td>None</td>\n",
       "      <td>None</td>\n",
       "      <td>HAYES</td>\n",
       "      <td>BENJAMIN</td>\n",
       "      <td>SPRING HILL</td>\n",
       "      <td>M</td>\n",
       "      <td>Allopathic &amp; Osteopathic Physicians</td>\n",
       "      <td>Dermatology</td>\n",
       "      <td>Pediatric Dermatology</td>\n",
       "      <td>...</td>\n",
       "      <td>None</td>\n",
       "      <td>Allopathic &amp; Osteopathic Physicians</td>\n",
       "      <td>Dermatology</td>\n",
       "      <td>None</td>\n",
       "      <td>1003963976</td>\n",
       "      <td>1003028770</td>\n",
       "      <td>2535</td>\n",
       "      <td>3945</td>\n",
       "      <td>0.000</td>\n",
       "      <td>0.000</td>\n",
       "    </tr>\n",
       "    <tr>\n",
       "      <th>4</th>\n",
       "      <td>1.0</td>\n",
       "      <td>None</td>\n",
       "      <td>None</td>\n",
       "      <td>WHITE</td>\n",
       "      <td>BOBBY</td>\n",
       "      <td>NASHVILLE</td>\n",
       "      <td>M</td>\n",
       "      <td>Allopathic &amp; Osteopathic Physicians</td>\n",
       "      <td>Internal Medicine</td>\n",
       "      <td>None</td>\n",
       "      <td>...</td>\n",
       "      <td>None</td>\n",
       "      <td>Allopathic &amp; Osteopathic Physicians</td>\n",
       "      <td>Dermatology</td>\n",
       "      <td>None</td>\n",
       "      <td>1073605499</td>\n",
       "      <td>1003028770</td>\n",
       "      <td>12</td>\n",
       "      <td>14</td>\n",
       "      <td>47.571</td>\n",
       "      <td>49.273</td>\n",
       "    </tr>\n",
       "    <tr>\n",
       "      <th>...</th>\n",
       "      <td>...</td>\n",
       "      <td>...</td>\n",
       "      <td>...</td>\n",
       "      <td>...</td>\n",
       "      <td>...</td>\n",
       "      <td>...</td>\n",
       "      <td>...</td>\n",
       "      <td>...</td>\n",
       "      <td>...</td>\n",
       "      <td>...</td>\n",
       "      <td>...</td>\n",
       "      <td>...</td>\n",
       "      <td>...</td>\n",
       "      <td>...</td>\n",
       "      <td>...</td>\n",
       "      <td>...</td>\n",
       "      <td>...</td>\n",
       "      <td>...</td>\n",
       "      <td>...</td>\n",
       "      <td>...</td>\n",
       "      <td>...</td>\n",
       "    </tr>\n",
       "    <tr>\n",
       "      <th>175792</th>\n",
       "      <td>1.0</td>\n",
       "      <td>None</td>\n",
       "      <td>None</td>\n",
       "      <td>SHARIFI</td>\n",
       "      <td>HAYDEH</td>\n",
       "      <td>SMYRNA</td>\n",
       "      <td>F</td>\n",
       "      <td>Allopathic &amp; Osteopathic Physicians</td>\n",
       "      <td>Family Medicine</td>\n",
       "      <td>None</td>\n",
       "      <td>...</td>\n",
       "      <td>None</td>\n",
       "      <td>Other Service Providers</td>\n",
       "      <td>Specialist</td>\n",
       "      <td>None</td>\n",
       "      <td>1235102617</td>\n",
       "      <td>1992985055</td>\n",
       "      <td>55</td>\n",
       "      <td>119</td>\n",
       "      <td>0.000</td>\n",
       "      <td>0.000</td>\n",
       "    </tr>\n",
       "    <tr>\n",
       "      <th>175793</th>\n",
       "      <td>1.0</td>\n",
       "      <td>None</td>\n",
       "      <td>None</td>\n",
       "      <td>PATEL</td>\n",
       "      <td>PRAKASHCHANDRA</td>\n",
       "      <td>SMYRNA</td>\n",
       "      <td>M</td>\n",
       "      <td>Allopathic &amp; Osteopathic Physicians</td>\n",
       "      <td>Internal Medicine</td>\n",
       "      <td>Pulmonary Disease</td>\n",
       "      <td>...</td>\n",
       "      <td>None</td>\n",
       "      <td>Other Service Providers</td>\n",
       "      <td>Specialist</td>\n",
       "      <td>None</td>\n",
       "      <td>1558384099</td>\n",
       "      <td>1992985055</td>\n",
       "      <td>23</td>\n",
       "      <td>39</td>\n",
       "      <td>28.333</td>\n",
       "      <td>39.600</td>\n",
       "    </tr>\n",
       "    <tr>\n",
       "      <th>175794</th>\n",
       "      <td>1.0</td>\n",
       "      <td>None</td>\n",
       "      <td>None</td>\n",
       "      <td>MANGIONE</td>\n",
       "      <td>NELSON</td>\n",
       "      <td>SMYRNA</td>\n",
       "      <td>M</td>\n",
       "      <td>Allopathic &amp; Osteopathic Physicians</td>\n",
       "      <td>Internal Medicine</td>\n",
       "      <td>Cardiovascular Disease</td>\n",
       "      <td>...</td>\n",
       "      <td>None</td>\n",
       "      <td>Other Service Providers</td>\n",
       "      <td>Specialist</td>\n",
       "      <td>None</td>\n",
       "      <td>1164504544</td>\n",
       "      <td>1992985055</td>\n",
       "      <td>26</td>\n",
       "      <td>38</td>\n",
       "      <td>38.868</td>\n",
       "      <td>48.749</td>\n",
       "    </tr>\n",
       "    <tr>\n",
       "      <th>175795</th>\n",
       "      <td>1.0</td>\n",
       "      <td>None</td>\n",
       "      <td>None</td>\n",
       "      <td>HART</td>\n",
       "      <td>JAMES</td>\n",
       "      <td>FRANKLIN</td>\n",
       "      <td>M</td>\n",
       "      <td>Allopathic &amp; Osteopathic Physicians</td>\n",
       "      <td>Psychiatry &amp; Neurology</td>\n",
       "      <td>Psychiatry</td>\n",
       "      <td>...</td>\n",
       "      <td>None</td>\n",
       "      <td>Other Service Providers</td>\n",
       "      <td>Specialist</td>\n",
       "      <td>None</td>\n",
       "      <td>1215915871</td>\n",
       "      <td>1992985055</td>\n",
       "      <td>32</td>\n",
       "      <td>39</td>\n",
       "      <td>10.359</td>\n",
       "      <td>27.306</td>\n",
       "    </tr>\n",
       "    <tr>\n",
       "      <th>175796</th>\n",
       "      <td>1.0</td>\n",
       "      <td>None</td>\n",
       "      <td>None</td>\n",
       "      <td>FERRI</td>\n",
       "      <td>MICHAEL</td>\n",
       "      <td>FRANKLIN</td>\n",
       "      <td>M</td>\n",
       "      <td>Allopathic &amp; Osteopathic Physicians</td>\n",
       "      <td>Psychiatry &amp; Neurology</td>\n",
       "      <td>Psychiatry</td>\n",
       "      <td>...</td>\n",
       "      <td>None</td>\n",
       "      <td>Other Service Providers</td>\n",
       "      <td>Specialist</td>\n",
       "      <td>None</td>\n",
       "      <td>1194988600</td>\n",
       "      <td>1992985055</td>\n",
       "      <td>18</td>\n",
       "      <td>22</td>\n",
       "      <td>39.909</td>\n",
       "      <td>71.533</td>\n",
       "    </tr>\n",
       "  </tbody>\n",
       "</table>\n",
       "<p>175797 rows × 26 columns</p>\n",
       "</div>"
      ],
      "text/plain": [
       "        entity_type_code employer_identification_number_ein  \\\n",
       "0                    1.0                               None   \n",
       "1                    1.0                               None   \n",
       "2                    1.0                               None   \n",
       "3                    1.0                               None   \n",
       "4                    1.0                               None   \n",
       "...                  ...                                ...   \n",
       "175792               1.0                               None   \n",
       "175793               1.0                               None   \n",
       "175794               1.0                               None   \n",
       "175795               1.0                               None   \n",
       "175796               1.0                               None   \n",
       "\n",
       "       provider_organization_name_legal_business_name  \\\n",
       "0                                                None   \n",
       "1                                                None   \n",
       "2                                                None   \n",
       "3                                                None   \n",
       "4                                                None   \n",
       "...                                               ...   \n",
       "175792                                           None   \n",
       "175793                                           None   \n",
       "175794                                           None   \n",
       "175795                                           None   \n",
       "175796                                           None   \n",
       "\n",
       "       provider_last_name_legal_name provider_first_name  \\\n",
       "0                               REZK                HANY   \n",
       "1                            MAHONEY              ROBERT   \n",
       "2                            WIESMAN                   H   \n",
       "3                              HAYES            BENJAMIN   \n",
       "4                              WHITE               BOBBY   \n",
       "...                              ...                 ...   \n",
       "175792                       SHARIFI              HAYDEH   \n",
       "175793                         PATEL      PRAKASHCHANDRA   \n",
       "175794                      MANGIONE              NELSON   \n",
       "175795                          HART               JAMES   \n",
       "175796                         FERRI             MICHAEL   \n",
       "\n",
       "       provider_business_practice_location_address_city_name  \\\n",
       "0                                                COLUMBIA      \n",
       "1                                               NASHVILLE      \n",
       "2                                                COLUMBIA      \n",
       "3                                             SPRING HILL      \n",
       "4                                               NASHVILLE      \n",
       "...                                                   ...      \n",
       "175792                                             SMYRNA      \n",
       "175793                                             SMYRNA      \n",
       "175794                                             SMYRNA      \n",
       "175795                                           FRANKLIN      \n",
       "175796                                           FRANKLIN      \n",
       "\n",
       "       provider_gender_code                             grouping  \\\n",
       "0                         M  Allopathic & Osteopathic Physicians   \n",
       "1                         M  Allopathic & Osteopathic Physicians   \n",
       "2                         M  Allopathic & Osteopathic Physicians   \n",
       "3                         M  Allopathic & Osteopathic Physicians   \n",
       "4                         M  Allopathic & Osteopathic Physicians   \n",
       "...                     ...                                  ...   \n",
       "175792                    F  Allopathic & Osteopathic Physicians   \n",
       "175793                    M  Allopathic & Osteopathic Physicians   \n",
       "175794                    M  Allopathic & Osteopathic Physicians   \n",
       "175795                    M  Allopathic & Osteopathic Physicians   \n",
       "175796                    M  Allopathic & Osteopathic Physicians   \n",
       "\n",
       "                classification          specialization  ...  \\\n",
       "0            Internal Medicine              Nephrology  ...   \n",
       "1                    Radiology    Diagnostic Radiology  ...   \n",
       "2          Orthopaedic Surgery                    None  ...   \n",
       "3                  Dermatology   Pediatric Dermatology  ...   \n",
       "4            Internal Medicine                    None  ...   \n",
       "...                        ...                     ...  ...   \n",
       "175792         Family Medicine                    None  ...   \n",
       "175793       Internal Medicine       Pulmonary Disease  ...   \n",
       "175794       Internal Medicine  Cardiovascular Disease  ...   \n",
       "175795  Psychiatry & Neurology              Psychiatry  ...   \n",
       "175796  Psychiatry & Neurology              Psychiatry  ...   \n",
       "\n",
       "        provider_gender_code_to                          grouping_to  \\\n",
       "0                          None  Allopathic & Osteopathic Physicians   \n",
       "1                          None  Allopathic & Osteopathic Physicians   \n",
       "2                          None  Allopathic & Osteopathic Physicians   \n",
       "3                          None  Allopathic & Osteopathic Physicians   \n",
       "4                          None  Allopathic & Osteopathic Physicians   \n",
       "...                         ...                                  ...   \n",
       "175792                     None              Other Service Providers   \n",
       "175793                     None              Other Service Providers   \n",
       "175794                     None              Other Service Providers   \n",
       "175795                     None              Other Service Providers   \n",
       "175796                     None              Other Service Providers   \n",
       "\n",
       "       classification_to specialization_to    from_npi      to_npi  \\\n",
       "0            Dermatology              None  1033297429  1003028770   \n",
       "1            Dermatology              None  1043206329  1003028770   \n",
       "2            Dermatology              None  1003922881  1003028770   \n",
       "3            Dermatology              None  1003963976  1003028770   \n",
       "4            Dermatology              None  1073605499  1003028770   \n",
       "...                  ...               ...         ...         ...   \n",
       "175792        Specialist              None  1235102617  1992985055   \n",
       "175793        Specialist              None  1558384099  1992985055   \n",
       "175794        Specialist              None  1164504544  1992985055   \n",
       "175795        Specialist              None  1215915871  1992985055   \n",
       "175796        Specialist              None  1194988600  1992985055   \n",
       "\n",
       "       patient_count transaction_count average_day_wait std_day_wait  \n",
       "0                 56                62           53.145       58.831  \n",
       "1                173               177           97.864       81.756  \n",
       "2                 17                21           45.619       41.519  \n",
       "3               2535              3945            0.000        0.000  \n",
       "4                 12                14           47.571       49.273  \n",
       "...              ...               ...              ...          ...  \n",
       "175792            55               119            0.000        0.000  \n",
       "175793            23                39           28.333       39.600  \n",
       "175794            26                38           38.868       48.749  \n",
       "175795            32                39           10.359       27.306  \n",
       "175796            18                22           39.909       71.533  \n",
       "\n",
       "[175797 rows x 26 columns]"
      ]
     },
     "execution_count": 3,
     "metadata": {},
     "output_type": "execute_result"
    }
   ],
   "source": [
    "db = sqlite3.connect('nppes.sqlite')\n",
    "query= '''\n",
    "select \n",
    "nnp_from.entity_type_code,\n",
    "nnp_from.employer_identification_number_ein,\n",
    "nnp_from.provider_organization_name_legal_business_name,\n",
    "nnp_from.provider_last_name_legal_name,\n",
    "nnp_from.provider_first_name,\n",
    "nnp_from.provider_business_practice_location_address_city_name,\n",
    "nnp_from.provider_gender_code,\n",
    "nnp_from.grouping,\n",
    "nnp_from.classification,\n",
    "nnp_from.specialization, \n",
    "nnp_to.entity_type_code as entity_type_code_to,\n",
    "nnp_to.employer_identification_number_ein as employer_identification_number_ein_to,\n",
    "nnp_to.provider_organization_name_legal_business_name as provider_organization_name_legal_business_name_to,\n",
    "nnp_to.provider_last_name_legal_name as provider_last_name_legal_name_to,\n",
    "nnp_to.provider_first_name as provider_first_name_to,\n",
    "nnp_to.provider_business_practice_location_address_city_name as provider_business_practice_location_address_city_name_to,\n",
    "nnp_to.provider_gender_code as provider_gender_code_to,\n",
    "nnp_to.grouping as grouping_to,\n",
    "nnp_to.classification as classification_to,\n",
    "nnp_to.specialization as specialization_to,\n",
    "from_npi,to_npi, patient_count, transaction_count, average_day_wait, std_day_wait\n",
    "\n",
    "from hop as hp\n",
    "inner join nash_npp as nnp_from\n",
    "on hp.from_npi=nnp_from.npi\n",
    "inner join nash_npp as nnp_to\n",
    "on nnp_to.npi=hp.to_npi\n",
    "where nnp_from.entity_type_code=1 and nnp_to.entity_type_code=2\n",
    "'''\n",
    "nash_npp_hop_fromto = pd.read_sql(query, db)\n",
    "nash_npp_hop_fromto\n"
   ]
  },
  {
   "cell_type": "code",
   "execution_count": null,
   "metadata": {},
   "outputs": [],
   "source": [
    "#nash_npp_hop_fromto=nash_npp_hop_fromto[nash_npp_hop_fromto['transaction_count']>=50]"
   ]
  },
  {
   "cell_type": "code",
   "execution_count": null,
   "metadata": {},
   "outputs": [],
   "source": [
    "#nash_npp_hop_fromto=nash_npp_hop_fromto[nash_npp_hop_fromto['average_day_wait']<=50]"
   ]
  },
  {
   "cell_type": "code",
   "execution_count": 5,
   "metadata": {},
   "outputs": [
    {
     "data": {
      "text/plain": [
       "<bound method IndexOpsMixin.tolist of Index(['entity_type_code', 'employer_identification_number_ein',\n",
       "       'provider_organization_name_legal_business_name',\n",
       "       'provider_last_name_legal_name', 'provider_first_name',\n",
       "       'provider_business_practice_location_address_city_name',\n",
       "       'provider_gender_code', 'grouping', 'classification', 'specialization',\n",
       "       'entity_type_code_to', 'employer_identification_number_ein_to',\n",
       "       'provider_organization_name_legal_business_name_to',\n",
       "       'provider_last_name_legal_name_to', 'provider_first_name_to',\n",
       "       'provider_business_practice_location_address_city_name_to',\n",
       "       'provider_gender_code_to', 'grouping_to', 'classification_to',\n",
       "       'specialization_to', 'from_npi', 'to_npi', 'patient_count',\n",
       "       'transaction_count', 'average_day_wait', 'std_day_wait'],\n",
       "      dtype='object')>"
      ]
     },
     "execution_count": 5,
     "metadata": {},
     "output_type": "execute_result"
    }
   ],
   "source": [
    "nash_npp_hop_fromto.columns.tolist"
   ]
  },
  {
   "cell_type": "code",
   "execution_count": 6,
   "metadata": {},
   "outputs": [],
   "source": [
    "#save the final csv file of nppes and hop_team data merged and ready for analysis (175797 rows × 26 columns)\n",
    "\n",
    "nash_npp_hop_fromto.to_csv('nash_npp_hop_fromto.csv', index=False)"
   ]
  },
  {
   "cell_type": "code",
   "execution_count": null,
   "metadata": {},
   "outputs": [],
   "source": [
    "nash_npp_hop_fromto[group"
   ]
  }
 ],
 "metadata": {
  "kernelspec": {
   "display_name": "Python 3",
   "language": "python",
   "name": "python3"
  },
  "language_info": {
   "codemirror_mode": {
    "name": "ipython",
    "version": 3
   },
   "file_extension": ".py",
   "mimetype": "text/x-python",
   "name": "python",
   "nbconvert_exporter": "python",
   "pygments_lexer": "ipython3",
   "version": "3.8.3"
  }
 },
 "nbformat": 4,
 "nbformat_minor": 4
}
