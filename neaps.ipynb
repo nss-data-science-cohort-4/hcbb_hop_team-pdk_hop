{
 "cells": [
  {
   "cell_type": "markdown",
   "metadata": {},
   "source": [
    "# Chunking and SQLite\n",
    "\n",
    "In this notebook, we'll see a couple of techniques that can be used when working with large file in Python."
   ]
  },
  {
   "cell_type": "code",
   "execution_count": 1,
   "metadata": {},
   "outputs": [],
   "source": [
    "import pandas as pd\n",
    "import numpy as np\n",
    "import sqlite3\n",
    "from tqdm.notebook import tqdm"
   ]
  },
  {
   "cell_type": "markdown",
   "metadata": {},
   "source": [
    "Before we do anything else, let's see how many rows are contained in the Calls for Service file. "
   ]
  },
  {
   "cell_type": "code",
   "execution_count": null,
   "metadata": {},
   "outputs": [],
   "source": [
    "#using terminal  \"wc -l file.txt\""
   ]
  },
  {
   "cell_type": "code",
   "execution_count": null,
   "metadata": {},
   "outputs": [],
   "source": [
    "npi_cols=['NPI',\n",
    " 'Entity Type Code',\n",
    " 'Replacement NPI',\n",
    " 'Employer Identification Number (EIN)',\n",
    " 'Provider Organization Name (Legal Business Name)',\n",
    " 'Provider Last Name (Legal Name)',\n",
    " 'Provider First Name',\n",
    " 'Provider Middle Name',\n",
    " 'Provider Name Prefix Text',\n",
    " 'Provider Name Suffix Text',\n",
    " 'Provider Credential Text',\n",
    " 'Provider First Line Business Practice Location Address',\n",
    " 'Provider Second Line Business Practice Location Address',\n",
    " 'Provider Business Practice Location Address City Name',\n",
    " 'Provider Business Practice Location Address State Name',\n",
    " 'Provider Business Practice Location Address Postal Code',\n",
    " 'Provider Gender Code',\n",
    " 'Healthcare Provider Taxonomy Code_1',\n",
    " 'Healthcare Provider Primary Taxonomy Switch_1',\n",
    " 'Healthcare Provider Taxonomy Code_2',\n",
    " 'Healthcare Provider Primary Taxonomy Switch_2',\n",
    " 'Healthcare Provider Taxonomy Code_3',\n",
    " 'Healthcare Provider Primary Taxonomy Switch_3',\n",
    " 'Healthcare Provider Taxonomy Code_4',\n",
    " 'Healthcare Provider Primary Taxonomy Switch_4',\n",
    " 'Healthcare Provider Taxonomy Code_5',\n",
    " 'Healthcare Provider Primary Taxonomy Switch_5',\n",
    " 'Healthcare Provider Taxonomy Code_6',\n",
    " 'Healthcare Provider Primary Taxonomy Switch_6',\n",
    " 'Healthcare Provider Taxonomy Code_7',\n",
    " 'Healthcare Provider Primary Taxonomy Switch_7',\n",
    " 'Healthcare Provider Taxonomy Code_8',\n",
    " 'Healthcare Provider Primary Taxonomy Switch_8',\n",
    " 'Healthcare Provider Taxonomy Code_9',\n",
    " 'Healthcare Provider Primary Taxonomy Switch_9',\n",
    " 'Healthcare Provider Taxonomy Code_10',\n",
    " 'Healthcare Provider Primary Taxonomy Switch_10',\n",
    " 'Healthcare Provider Taxonomy Code_11',\n",
    " 'Healthcare Provider Primary Taxonomy Switch_11',\n",
    " 'Healthcare Provider Taxonomy Code_12',\n",
    " 'Healthcare Provider Primary Taxonomy Switch_12',\n",
    " 'Healthcare Provider Taxonomy Code_13',\n",
    " 'Healthcare Provider Primary Taxonomy Switch_13',\n",
    " 'Healthcare Provider Taxonomy Code_14',\n",
    " 'Healthcare Provider Primary Taxonomy Switch_14',\n",
    " 'Healthcare Provider Taxonomy Code_15',\n",
    " 'Healthcare Provider Primary Taxonomy Switch_15']"
   ]
  },
  {
   "cell_type": "markdown",
   "metadata": {},
   "source": [
    "First, we need to connect to our database. The connect function will either create a new database if one does not already exist or connect to an existing one."
   ]
  },
  {
   "cell_type": "code",
   "execution_count": null,
   "metadata": {},
   "outputs": [],
   "source": [
    "db = sqlite3.connect('nppes.sqlite')"
   ]
  },
  {
   "cell_type": "markdown",
   "metadata": {},
   "source": [
    "Now, we can chunk through the data and for each row, add the rows to a table in our sqlite database. \n",
    "To keep track of how much progress has been made, we can use the `tqdm` library."
   ]
  },
  {
   "cell_type": "code",
   "execution_count": null,
   "metadata": {},
   "outputs": [],
   "source": [
    "for chunk in tqdm(pd.read_csv('NPPES_Data_Dissemination_February_2021/npidata_pfile_20050523-20210207.csv', usecols=npi_cols, chunksize = 10000)):\n",
    "    chunk.columns = [x.lower().replace(' ', '_').replace('(', '').replace(')','').replace('*','') for x in chunk.columns]      # Clean up the column names\n",
    "    conditions = [\n",
    "    (chunk['healthcare_provider_primary_taxonomy_switch_1']=='Y'),\n",
    "    (chunk['healthcare_provider_primary_taxonomy_switch_2']=='Y'),\n",
    "    (chunk['healthcare_provider_primary_taxonomy_switch_3']=='Y'),\n",
    "    (chunk['healthcare_provider_primary_taxonomy_switch_4']=='Y'),\n",
    "    (chunk['healthcare_provider_primary_taxonomy_switch_5']=='Y'),\n",
    "    (chunk['healthcare_provider_primary_taxonomy_switch_6']=='Y'),\n",
    "    (chunk['healthcare_provider_primary_taxonomy_switch_7']=='Y'),\n",
    "    (chunk['healthcare_provider_primary_taxonomy_switch_8']=='Y')]\n",
    "\n",
    "# create a list of the values we want to assign for each condition\n",
    "    values = [chunk['healthcare_provider_taxonomy_code_1'],\n",
    "          chunk['healthcare_provider_taxonomy_code_2'],\n",
    "          chunk['healthcare_provider_taxonomy_code_3'],\n",
    "          chunk['healthcare_provider_taxonomy_code_4'],\n",
    "          chunk['healthcare_provider_taxonomy_code_5'],\n",
    "          chunk['healthcare_provider_taxonomy_code_6'],\n",
    "          chunk['healthcare_provider_taxonomy_code_7'],\n",
    "          chunk['healthcare_provider_taxonomy_code_8']]\n",
    "\n",
    "# create a new column and use np.select to assign values to it using our lists as arguments\n",
    "    chunk['taxonomy'] = np.select(conditions, values)\n",
    "    chunk[chunk.columns.drop(list(chunk.filter(regex='healthcare_provider_')))]\n",
    "    chunk.to_sql('npi_data', db, if_exists = 'append', index = False)\n",
    "\n",
    "#figure out this later\n",
    "#def find_primary_code(row):\n",
    "    #col = 'Healthcare Provider Primary Taxonomy Switch_'\n",
    "    #for i in range(1, 16):\n",
    "        #if row[col + str(i)] == 'Y':\n",
    "            #return row['Healthcare Provider Taxonomy Code_' + str(i)]"
   ]
  },
  {
   "cell_type": "code",
   "execution_count": null,
   "metadata": {},
   "outputs": [],
   "source": [
    "db.close()"
   ]
  },
  {
   "cell_type": "code",
   "execution_count": null,
   "metadata": {
    "scrolled": false
   },
   "outputs": [],
   "source": [
    "db = sqlite3.connect('nppes.sqlite')\n",
    "query='''\n",
    "select *\n",
    "from npi_data\n",
    "order by npi;\n",
    "'''\n",
    "npi_data = pd.read_sql(query, db)\n",
    "npi_data"
   ]
  },
  {
   "cell_type": "code",
   "execution_count": null,
   "metadata": {},
   "outputs": [],
   "source": [
    "db.close()"
   ]
  },
  {
   "cell_type": "code",
   "execution_count": null,
   "metadata": {},
   "outputs": [],
   "source": [
    "npi_data.duplicated(subset=['npi']).value_counts()"
   ]
  },
  {
   "cell_type": "code",
   "execution_count": null,
   "metadata": {},
   "outputs": [],
   "source": [
    "npi_data=npi_data.drop_duplicates(subset=['npi'])"
   ]
  },
  {
   "cell_type": "code",
   "execution_count": null,
   "metadata": {},
   "outputs": [],
   "source": [
    "db = sqlite3.connect('nppes.sqlite')\n",
    "nucc_tax=pd.read_csv('NPPES_Data_Dissemination_February_2021/nucc_taxonomy_210.csv')\n",
    "nucc_tax.columns = [x.lower().replace(' ', '_') for x in nucc_tax.columns]\n",
    "nucc_tax.to_sql('nucc_tax', db,  if_exists='append', index = False)    \n"
   ]
  },
  {
   "cell_type": "code",
   "execution_count": null,
   "metadata": {},
   "outputs": [],
   "source": [
    "query='''\n",
    "select *\n",
    "from nucc_tax;\n",
    "'''\n",
    "nucc_tax = pd.read_sql(query, db)\n",
    "nucc_tax"
   ]
  },
  {
   "cell_type": "code",
   "execution_count": null,
   "metadata": {},
   "outputs": [],
   "source": [
    "db.close()"
   ]
  },
  {
   "cell_type": "code",
   "execution_count": null,
   "metadata": {},
   "outputs": [],
   "source": [
    "nucc_tax.info()"
   ]
  },
  {
   "cell_type": "markdown",
   "metadata": {},
   "source": [
    "To speed up queries which use a specific column, we can create an **index** on that column. This causes the database to store that column in a way that helps it to retrieve rows quicker."
   ]
  },
  {
   "cell_type": "code",
   "execution_count": null,
   "metadata": {},
   "outputs": [],
   "source": [
    "db = sqlite3.connect('nppes.sqlite')\n",
    "db.execute('CREATE INDEX taxonomy ON npi_data(taxonomy)')\n",
    "db.execute('CREATE INDEX code ON nucc_tax(code)')"
   ]
  },
  {
   "cell_type": "code",
   "execution_count": null,
   "metadata": {},
   "outputs": [],
   "source": [
    "db = sqlite3.connect('nppes.sqlite')\n",
    "cbsa=pd.read_csv('NPPES_Data_Dissemination_February_2021/ZIP_CBSA_122020.csv')\n",
    "cbsa.columns = [x.lower().replace(' ', '_') for x in cbsa.columns]\n",
    "cbsa.to_sql('cbsa', db,  if_exists='append', index = False)"
   ]
  },
  {
   "cell_type": "code",
   "execution_count": null,
   "metadata": {},
   "outputs": [],
   "source": [
    "db = sqlite3.connect('nppes.sqlite')\n",
    "query= '''\n",
    "select *       \n",
    "from cbsa \n",
    "'''\n",
    "cbsa = pd.read_sql(query, db)\n",
    "cbsa"
   ]
  },
  {
   "cell_type": "code",
   "execution_count": null,
   "metadata": {},
   "outputs": [],
   "source": [
    "db = sqlite3.connect('nppes.sqlite')\n",
    "query= '''\n",
    "select *      \n",
    "from npi_data as np\n",
    "left join nucc_tax as nu\n",
    "on np.taxonomy=nu.code \n",
    "join cbsa as c\n",
    "on np.provider_business_practice_location_address_postal_code=c.zip \n",
    "'''\n",
    "npp_nucc_tax = pd.read_sql(query, db)\n",
    "npp_nucc_tax"
   ]
  },
  {
   "cell_type": "code",
   "execution_count": null,
   "metadata": {},
   "outputs": [],
   "source": [
    "df=npp_nucc_tax[['npi', 'provider_business_practice_location_address_postal_code', 'specialization', 'zip','cbsa']]\n",
    "df.sort_values(by=['cbsa'])"
   ]
  },
  {
   "cell_type": "code",
   "execution_count": null,
   "metadata": {},
   "outputs": [],
   "source": [
    "cbsa.info()"
   ]
  },
  {
   "cell_type": "code",
   "execution_count": null,
   "metadata": {
    "scrolled": true
   },
   "outputs": [],
   "source": [
    "df.duplicated(subset=['npi'], ).value_counts()"
   ]
  },
  {
   "cell_type": "code",
   "execution_count": null,
   "metadata": {},
   "outputs": [],
   "source": [
    "npp_nucc=pd.merge(npi_data, nucc_tax,left_on='taxonomy', right_on='code', how='left')"
   ]
  },
  {
   "cell_type": "code",
   "execution_count": null,
   "metadata": {},
   "outputs": [],
   "source": [
    "npp_nucc.duplicated(subset=['npi']).value_counts()"
   ]
  },
  {
   "cell_type": "code",
   "execution_count": null,
   "metadata": {},
   "outputs": [],
   "source": [
    "npp_nucc.head(50)\n"
   ]
  },
  {
   "cell_type": "code",
   "execution_count": null,
   "metadata": {},
   "outputs": [],
   "source": [
    "npp_nucc['postal_code']=npp_nucc['provider_business_practice_location_address_postal_code'].astype(str).str[0:5]\n",
    "\n",
    "cbsa['zip1']=cbsa['zip'].astype(str).str[0:5]\n"
   ]
  },
  {
   "cell_type": "code",
   "execution_count": null,
   "metadata": {},
   "outputs": [],
   "source": [
    "npp_nucc_cbsa=pd.merge(npp_nucc, cbsa,left_on= 'postal_code', right_on='zip1', how='left')"
   ]
  },
  {
   "cell_type": "code",
   "execution_count": null,
   "metadata": {},
   "outputs": [],
   "source": [
    "npp_nucc_cbsa.duplicated(subset=['npi']).value_counts()"
   ]
  },
  {
   "cell_type": "code",
   "execution_count": null,
   "metadata": {},
   "outputs": [],
   "source": [
    "npp_nucc_cbsa_nash=npp_nucc_cbsa[npp_nucc_cbsa['cbsa']==34980]\n"
   ]
  },
  {
   "cell_type": "code",
   "execution_count": null,
   "metadata": {},
   "outputs": [],
   "source": [
    "npp_nucc_cbsa_nash.to_csv('npp_taxo_cbsa_nash.csv',index=False)"
   ]
  },
  {
   "cell_type": "code",
   "execution_count": null,
   "metadata": {},
   "outputs": [],
   "source": [
    "npp_nucc_cbsa_nash.duplicated(subset=['npi']).value_counts()"
   ]
  },
  {
   "cell_type": "code",
   "execution_count": null,
   "metadata": {},
   "outputs": [],
   "source": [
    "npp_nucc_cbsa[['npi','specialization','zip']].head(50)"
   ]
  },
  {
   "cell_type": "code",
   "execution_count": null,
   "metadata": {},
   "outputs": [],
   "source": [
    "pd.read_csv('DocGraph_Hop_Teaming_2017_Non_Commercial/DocGraph_Hop_Teaming_2017.csv', nrows = 1000).info()"
   ]
  },
  {
   "cell_type": "code",
   "execution_count": 2,
   "metadata": {},
   "outputs": [
    {
     "data": {
      "application/vnd.jupyter.widget-view+json": {
       "model_id": "b25d34047be64b48beffe4a8f9100597",
       "version_major": 2,
       "version_minor": 0
      },
      "text/plain": [
       "HBox(children=(FloatProgress(value=1.0, bar_style='info', max=1.0), HTML(value='')))"
      ]
     },
     "metadata": {},
     "output_type": "display_data"
    },
    {
     "name": "stdout",
     "output_type": "stream",
     "text": [
      "\n"
     ]
    }
   ],
   "source": [
    "db = sqlite3.connect('nppes.sqlite')\n",
    "for chunk in tqdm(pd.read_csv('DocGraph_Hop_Teaming_2017_Non_Commercial/DocGraph_Hop_Teaming_2017.csv', chunksize = 100000)):\n",
    "    chunk[(chunk['transaction_count']>=50) | (chunk['average_day_wait']<=50)]\n",
    "    chunk.to_sql('hop', db, if_exists ='append', index = False)\n"
   ]
  },
  {
   "cell_type": "code",
   "execution_count": 3,
   "metadata": {},
   "outputs": [],
   "source": [
    "db.close()"
   ]
  },
  {
   "cell_type": "code",
   "execution_count": 4,
   "metadata": {},
   "outputs": [
    {
     "data": {
      "text/html": [
       "<div>\n",
       "<style scoped>\n",
       "    .dataframe tbody tr th:only-of-type {\n",
       "        vertical-align: middle;\n",
       "    }\n",
       "\n",
       "    .dataframe tbody tr th {\n",
       "        vertical-align: top;\n",
       "    }\n",
       "\n",
       "    .dataframe thead th {\n",
       "        text-align: right;\n",
       "    }\n",
       "</style>\n",
       "<table border=\"1\" class=\"dataframe\">\n",
       "  <thead>\n",
       "    <tr style=\"text-align: right;\">\n",
       "      <th></th>\n",
       "      <th>from_npi</th>\n",
       "      <th>to_npi</th>\n",
       "      <th>patient_count</th>\n",
       "      <th>transaction_count</th>\n",
       "      <th>average_day_wait</th>\n",
       "      <th>std_day_wait</th>\n",
       "    </tr>\n",
       "  </thead>\n",
       "  <tbody>\n",
       "    <tr>\n",
       "      <th>0</th>\n",
       "      <td>1003863580</td>\n",
       "      <td>1000000004</td>\n",
       "      <td>19</td>\n",
       "      <td>19</td>\n",
       "      <td>108.895</td>\n",
       "      <td>84.598</td>\n",
       "    </tr>\n",
       "    <tr>\n",
       "      <th>1</th>\n",
       "      <td>1043250400</td>\n",
       "      <td>1000000004</td>\n",
       "      <td>20</td>\n",
       "      <td>20</td>\n",
       "      <td>87.000</td>\n",
       "      <td>77.173</td>\n",
       "    </tr>\n",
       "    <tr>\n",
       "      <th>2</th>\n",
       "      <td>1033239413</td>\n",
       "      <td>1000000004</td>\n",
       "      <td>20</td>\n",
       "      <td>20</td>\n",
       "      <td>58.800</td>\n",
       "      <td>76.982</td>\n",
       "    </tr>\n",
       "    <tr>\n",
       "      <th>3</th>\n",
       "      <td>1033142146</td>\n",
       "      <td>1000000004</td>\n",
       "      <td>491</td>\n",
       "      <td>535</td>\n",
       "      <td>10.232</td>\n",
       "      <td>36.558</td>\n",
       "    </tr>\n",
       "    <tr>\n",
       "      <th>4</th>\n",
       "      <td>1013957562</td>\n",
       "      <td>1000000004</td>\n",
       "      <td>25</td>\n",
       "      <td>26</td>\n",
       "      <td>78.692</td>\n",
       "      <td>59.305</td>\n",
       "    </tr>\n",
       "    <tr>\n",
       "      <th>...</th>\n",
       "      <td>...</td>\n",
       "      <td>...</td>\n",
       "      <td>...</td>\n",
       "      <td>...</td>\n",
       "      <td>...</td>\n",
       "      <td>...</td>\n",
       "    </tr>\n",
       "    <tr>\n",
       "      <th>203330902</th>\n",
       "      <td>1235291360</td>\n",
       "      <td>1255367132</td>\n",
       "      <td>12</td>\n",
       "      <td>13</td>\n",
       "      <td>44.769</td>\n",
       "      <td>96.969</td>\n",
       "    </tr>\n",
       "    <tr>\n",
       "      <th>203330903</th>\n",
       "      <td>1235180266</td>\n",
       "      <td>1255367132</td>\n",
       "      <td>23</td>\n",
       "      <td>23</td>\n",
       "      <td>13.739</td>\n",
       "      <td>21.020</td>\n",
       "    </tr>\n",
       "    <tr>\n",
       "      <th>203330904</th>\n",
       "      <td>1265448617</td>\n",
       "      <td>1255367132</td>\n",
       "      <td>15</td>\n",
       "      <td>16</td>\n",
       "      <td>10.938</td>\n",
       "      <td>25.702</td>\n",
       "    </tr>\n",
       "    <tr>\n",
       "      <th>203330905</th>\n",
       "      <td>1265437644</td>\n",
       "      <td>1255367132</td>\n",
       "      <td>78</td>\n",
       "      <td>82</td>\n",
       "      <td>26.561</td>\n",
       "      <td>51.304</td>\n",
       "    </tr>\n",
       "    <tr>\n",
       "      <th>203330906</th>\n",
       "      <td>1265498869</td>\n",
       "      <td>1255367132</td>\n",
       "      <td>20</td>\n",
       "      <td>20</td>\n",
       "      <td>52.250</td>\n",
       "      <td>77.080</td>\n",
       "    </tr>\n",
       "  </tbody>\n",
       "</table>\n",
       "<p>203330907 rows × 6 columns</p>\n",
       "</div>"
      ],
      "text/plain": [
       "             from_npi      to_npi  patient_count  transaction_count  \\\n",
       "0          1003863580  1000000004             19                 19   \n",
       "1          1043250400  1000000004             20                 20   \n",
       "2          1033239413  1000000004             20                 20   \n",
       "3          1033142146  1000000004            491                535   \n",
       "4          1013957562  1000000004             25                 26   \n",
       "...               ...         ...            ...                ...   \n",
       "203330902  1235291360  1255367132             12                 13   \n",
       "203330903  1235180266  1255367132             23                 23   \n",
       "203330904  1265448617  1255367132             15                 16   \n",
       "203330905  1265437644  1255367132             78                 82   \n",
       "203330906  1265498869  1255367132             20                 20   \n",
       "\n",
       "           average_day_wait  std_day_wait  \n",
       "0                   108.895        84.598  \n",
       "1                    87.000        77.173  \n",
       "2                    58.800        76.982  \n",
       "3                    10.232        36.558  \n",
       "4                    78.692        59.305  \n",
       "...                     ...           ...  \n",
       "203330902            44.769        96.969  \n",
       "203330903            13.739        21.020  \n",
       "203330904            10.938        25.702  \n",
       "203330905            26.561        51.304  \n",
       "203330906            52.250        77.080  \n",
       "\n",
       "[203330907 rows x 6 columns]"
      ]
     },
     "execution_count": 4,
     "metadata": {},
     "output_type": "execute_result"
    }
   ],
   "source": [
    "db = sqlite3.connect('nppes.sqlite')\n",
    "query='''\n",
    "select *\n",
    "from hop;\n",
    "'''\n",
    "hop_team = pd.read_sql(query, db)\n",
    "hop_team "
   ]
  },
  {
   "cell_type": "code",
   "execution_count": 6,
   "metadata": {},
   "outputs": [],
   "source": [
    "npp_nucc_cbsa_nash=pd.read_csv('npp_taxo_cbsa_nash.csv') "
   ]
  },
  {
   "cell_type": "code",
   "execution_count": null,
   "metadata": {},
   "outputs": [],
   "source": [
    "#npp_nucc_cbsa_nash['npp_npi']=npp_nucc_cbsa_nash['npi'].astype(str)\n",
    "#hop_team['hop_from_npi']=hop_team['from_npi'].astype(str)\n",
    "#hop_team['hop_to_npi']=hop_team['to_npi'].astype(str)"
   ]
  },
  {
   "cell_type": "code",
   "execution_count": 7,
   "metadata": {},
   "outputs": [],
   "source": [
    "npp_nucc_cbsa_nash_hop=pd.merge(npp_nucc_cbsa_nash, hop_team, left_on= 'npi', right_on='from_npi', how='inner')"
   ]
  },
  {
   "cell_type": "code",
   "execution_count": 8,
   "metadata": {},
   "outputs": [],
   "source": [
    "npp_nucc_cbsa_nash_hop1=pd.merge(npp_nucc_cbsa_nash, hop_team, left_on= 'npi', right_on='to_npi', how='inner')"
   ]
  },
  {
   "cell_type": "code",
   "execution_count": 12,
   "metadata": {},
   "outputs": [
    {
     "name": "stdout",
     "output_type": "stream",
     "text": [
      "<class 'pandas.core.frame.DataFrame'>\n",
      "Int64Index: 1562518 entries, 0 to 1562517\n",
      "Data columns (total 42 columns):\n",
      " #   Column                                                   Non-Null Count    Dtype  \n",
      "---  ------                                                   --------------    -----  \n",
      " 0   npi                                                      1562518 non-null  int64  \n",
      " 1   entity_type_code                                         1562518 non-null  float64\n",
      " 2   replacement_npi                                          0 non-null        float64\n",
      " 3   employer_identification_number_ein                       650980 non-null   object \n",
      " 4   provider_organization_name_legal_business_name           650980 non-null   object \n",
      " 5   provider_last_name_legal_name                            911402 non-null   object \n",
      " 6   provider_first_name                                      911538 non-null   object \n",
      " 7   provider_middle_name                                     731230 non-null   object \n",
      " 8   provider_name_prefix_text                                440858 non-null   object \n",
      " 9   provider_name_suffix_text                                52441 non-null    object \n",
      " 10  provider_credential_text                                 892646 non-null   object \n",
      " 11  provider_first_line_business_practice_location_address   1562518 non-null  object \n",
      " 12  provider_second_line_business_practice_location_address  597092 non-null   object \n",
      " 13  provider_business_practice_location_address_city_name    1562518 non-null  object \n",
      " 14  provider_business_practice_location_address_state_name   1562518 non-null  object \n",
      " 15  provider_business_practice_location_address_postal_code  1562518 non-null  float64\n",
      " 16  provider_gender_code                                     911538 non-null   object \n",
      " 17  taxonomy                                                 1562518 non-null  object \n",
      " 18  code                                                     1524659 non-null  object \n",
      " 19  grouping                                                 1524659 non-null  object \n",
      " 20  classification                                           1524659 non-null  object \n",
      " 21  specialization                                           804878 non-null   object \n",
      " 22  definition                                               1524659 non-null  object \n",
      " 23  effective_date                                           1524659 non-null  object \n",
      " 24  deactivation_date                                        0 non-null        float64\n",
      " 25  last_modified_date                                       1042710 non-null  object \n",
      " 26  notes                                                    1298859 non-null  object \n",
      " 27  display_name                                             1524659 non-null  object \n",
      " 28  postal_code                                              1562518 non-null  int64  \n",
      " 29  zip                                                      1562518 non-null  float64\n",
      " 30  cbsa                                                     1562518 non-null  float64\n",
      " 31  res_ratio                                                1562518 non-null  float64\n",
      " 32  bus_ratio                                                1562518 non-null  float64\n",
      " 33  oth_ratio                                                1562518 non-null  float64\n",
      " 34  tot_ratio                                                1562518 non-null  float64\n",
      " 35  zip1                                                     1562518 non-null  int64  \n",
      " 36  from_npi                                                 1562518 non-null  int64  \n",
      " 37  to_npi                                                   1562518 non-null  int64  \n",
      " 38  patient_count                                            1562518 non-null  int64  \n",
      " 39  transaction_count                                        1562518 non-null  int64  \n",
      " 40  average_day_wait                                         1562518 non-null  float64\n",
      " 41  std_day_wait                                             1562518 non-null  float64\n",
      "dtypes: float64(12), int64(7), object(23)\n",
      "memory usage: 512.6+ MB\n"
     ]
    }
   ],
   "source": [
    "npp_nucc_cbsa_nash_hop1.info()"
   ]
  },
  {
   "cell_type": "code",
   "execution_count": 24,
   "metadata": {},
   "outputs": [],
   "source": [
    "npp_nucc_cbsa_nash_hop=npp_nucc_cbsa_nash_hop[npp_nucc_cbsa_nash_hop['entity_type_code']==1]"
   ]
  },
  {
   "cell_type": "code",
   "execution_count": 25,
   "metadata": {},
   "outputs": [],
   "source": [
    "npp_nucc_cbsa_nash_hop.to_csv('npp_nucc_cbsa_nash_hop_from.csv',index=False)"
   ]
  },
  {
   "cell_type": "code",
   "execution_count": 26,
   "metadata": {},
   "outputs": [],
   "source": [
    "npp_nucc_cbsa_nash_hop1=npp_nucc_cbsa_nash_hop1[npp_nucc_cbsa_nash_hop1['entity_type_code']==2]"
   ]
  },
  {
   "cell_type": "code",
   "execution_count": 27,
   "metadata": {},
   "outputs": [],
   "source": [
    "npp_nucc_cbsa_nash_hop1.to_csv('npp_nucc_cbsa_nash_hop_to.csv',index=False)"
   ]
  },
  {
   "cell_type": "code",
   "execution_count": 28,
   "metadata": {},
   "outputs": [],
   "source": [
    "npp_hop_dfs=[npp_nucc_cbsa_nash_hop,npp_nucc_cbsa_nash_hop1]"
   ]
  },
  {
   "cell_type": "code",
   "execution_count": 29,
   "metadata": {},
   "outputs": [],
   "source": [
    "npp_nucc_cbsa_nash_hop_all=pd.concat(npp_hop_dfs, keys=['from', 'to'])"
   ]
  },
  {
   "cell_type": "code",
   "execution_count": 22,
   "metadata": {},
   "outputs": [
    {
     "data": {
      "text/html": [
       "<div>\n",
       "<style scoped>\n",
       "    .dataframe tbody tr th:only-of-type {\n",
       "        vertical-align: middle;\n",
       "    }\n",
       "\n",
       "    .dataframe tbody tr th {\n",
       "        vertical-align: top;\n",
       "    }\n",
       "\n",
       "    .dataframe thead th {\n",
       "        text-align: right;\n",
       "    }\n",
       "</style>\n",
       "<table border=\"1\" class=\"dataframe\">\n",
       "  <thead>\n",
       "    <tr style=\"text-align: right;\">\n",
       "      <th></th>\n",
       "      <th>npi</th>\n",
       "      <th>entity_type_code</th>\n",
       "      <th>replacement_npi</th>\n",
       "      <th>employer_identification_number_ein</th>\n",
       "      <th>provider_organization_name_legal_business_name</th>\n",
       "      <th>provider_last_name_legal_name</th>\n",
       "      <th>provider_first_name</th>\n",
       "      <th>provider_middle_name</th>\n",
       "      <th>provider_name_prefix_text</th>\n",
       "      <th>provider_name_suffix_text</th>\n",
       "      <th>...</th>\n",
       "      <th>bus_ratio</th>\n",
       "      <th>oth_ratio</th>\n",
       "      <th>tot_ratio</th>\n",
       "      <th>zip1</th>\n",
       "      <th>from_npi</th>\n",
       "      <th>to_npi</th>\n",
       "      <th>patient_count</th>\n",
       "      <th>transaction_count</th>\n",
       "      <th>average_day_wait</th>\n",
       "      <th>std_day_wait</th>\n",
       "    </tr>\n",
       "  </thead>\n",
       "  <tbody>\n",
       "    <tr>\n",
       "      <th>0</th>\n",
       "      <td>1003013160</td>\n",
       "      <td>1.0</td>\n",
       "      <td>NaN</td>\n",
       "      <td>NaN</td>\n",
       "      <td>NaN</td>\n",
       "      <td>GRABENSTEIN</td>\n",
       "      <td>WILLIAM</td>\n",
       "      <td>P.</td>\n",
       "      <td>DR.</td>\n",
       "      <td>NaN</td>\n",
       "      <td>...</td>\n",
       "      <td>0.001398</td>\n",
       "      <td>0.0</td>\n",
       "      <td>0.003284</td>\n",
       "      <td>37043</td>\n",
       "      <td>1003013160</td>\n",
       "      <td>1023055126</td>\n",
       "      <td>13</td>\n",
       "      <td>23</td>\n",
       "      <td>31.870</td>\n",
       "      <td>36.145</td>\n",
       "    </tr>\n",
       "    <tr>\n",
       "      <th>1</th>\n",
       "      <td>1003013160</td>\n",
       "      <td>1.0</td>\n",
       "      <td>NaN</td>\n",
       "      <td>NaN</td>\n",
       "      <td>NaN</td>\n",
       "      <td>GRABENSTEIN</td>\n",
       "      <td>WILLIAM</td>\n",
       "      <td>P.</td>\n",
       "      <td>DR.</td>\n",
       "      <td>NaN</td>\n",
       "      <td>...</td>\n",
       "      <td>0.001398</td>\n",
       "      <td>0.0</td>\n",
       "      <td>0.003284</td>\n",
       "      <td>37043</td>\n",
       "      <td>1003013160</td>\n",
       "      <td>1053316265</td>\n",
       "      <td>14</td>\n",
       "      <td>17</td>\n",
       "      <td>57.294</td>\n",
       "      <td>59.985</td>\n",
       "    </tr>\n",
       "    <tr>\n",
       "      <th>2</th>\n",
       "      <td>1003013160</td>\n",
       "      <td>1.0</td>\n",
       "      <td>NaN</td>\n",
       "      <td>NaN</td>\n",
       "      <td>NaN</td>\n",
       "      <td>GRABENSTEIN</td>\n",
       "      <td>WILLIAM</td>\n",
       "      <td>P.</td>\n",
       "      <td>DR.</td>\n",
       "      <td>NaN</td>\n",
       "      <td>...</td>\n",
       "      <td>0.001398</td>\n",
       "      <td>0.0</td>\n",
       "      <td>0.003284</td>\n",
       "      <td>37043</td>\n",
       "      <td>1003013160</td>\n",
       "      <td>1073585774</td>\n",
       "      <td>22</td>\n",
       "      <td>32</td>\n",
       "      <td>48.531</td>\n",
       "      <td>65.231</td>\n",
       "    </tr>\n",
       "    <tr>\n",
       "      <th>3</th>\n",
       "      <td>1003013160</td>\n",
       "      <td>1.0</td>\n",
       "      <td>NaN</td>\n",
       "      <td>NaN</td>\n",
       "      <td>NaN</td>\n",
       "      <td>GRABENSTEIN</td>\n",
       "      <td>WILLIAM</td>\n",
       "      <td>P.</td>\n",
       "      <td>DR.</td>\n",
       "      <td>NaN</td>\n",
       "      <td>...</td>\n",
       "      <td>0.001398</td>\n",
       "      <td>0.0</td>\n",
       "      <td>0.003284</td>\n",
       "      <td>37043</td>\n",
       "      <td>1003013160</td>\n",
       "      <td>1083657829</td>\n",
       "      <td>16</td>\n",
       "      <td>24</td>\n",
       "      <td>28.042</td>\n",
       "      <td>35.471</td>\n",
       "    </tr>\n",
       "    <tr>\n",
       "      <th>4</th>\n",
       "      <td>1003013160</td>\n",
       "      <td>1.0</td>\n",
       "      <td>NaN</td>\n",
       "      <td>NaN</td>\n",
       "      <td>NaN</td>\n",
       "      <td>GRABENSTEIN</td>\n",
       "      <td>WILLIAM</td>\n",
       "      <td>P.</td>\n",
       "      <td>DR.</td>\n",
       "      <td>NaN</td>\n",
       "      <td>...</td>\n",
       "      <td>0.001398</td>\n",
       "      <td>0.0</td>\n",
       "      <td>0.003284</td>\n",
       "      <td>37043</td>\n",
       "      <td>1003013160</td>\n",
       "      <td>1083819668</td>\n",
       "      <td>21</td>\n",
       "      <td>24</td>\n",
       "      <td>57.125</td>\n",
       "      <td>66.059</td>\n",
       "    </tr>\n",
       "    <tr>\n",
       "      <th>...</th>\n",
       "      <td>...</td>\n",
       "      <td>...</td>\n",
       "      <td>...</td>\n",
       "      <td>...</td>\n",
       "      <td>...</td>\n",
       "      <td>...</td>\n",
       "      <td>...</td>\n",
       "      <td>...</td>\n",
       "      <td>...</td>\n",
       "      <td>...</td>\n",
       "      <td>...</td>\n",
       "      <td>...</td>\n",
       "      <td>...</td>\n",
       "      <td>...</td>\n",
       "      <td>...</td>\n",
       "      <td>...</td>\n",
       "      <td>...</td>\n",
       "      <td>...</td>\n",
       "      <td>...</td>\n",
       "      <td>...</td>\n",
       "      <td>...</td>\n",
       "    </tr>\n",
       "    <tr>\n",
       "      <th>1571414</th>\n",
       "      <td>1992987085</td>\n",
       "      <td>1.0</td>\n",
       "      <td>NaN</td>\n",
       "      <td>NaN</td>\n",
       "      <td>NaN</td>\n",
       "      <td>HORTON</td>\n",
       "      <td>SUSANNE</td>\n",
       "      <td>M</td>\n",
       "      <td>NaN</td>\n",
       "      <td>NaN</td>\n",
       "      <td>...</td>\n",
       "      <td>1.000000</td>\n",
       "      <td>1.0</td>\n",
       "      <td>1.000000</td>\n",
       "      <td>37232</td>\n",
       "      <td>1992987085</td>\n",
       "      <td>1962606939</td>\n",
       "      <td>19</td>\n",
       "      <td>19</td>\n",
       "      <td>0.895</td>\n",
       "      <td>2.536</td>\n",
       "    </tr>\n",
       "    <tr>\n",
       "      <th>1571415</th>\n",
       "      <td>1992987085</td>\n",
       "      <td>1.0</td>\n",
       "      <td>NaN</td>\n",
       "      <td>NaN</td>\n",
       "      <td>NaN</td>\n",
       "      <td>HORTON</td>\n",
       "      <td>SUSANNE</td>\n",
       "      <td>M</td>\n",
       "      <td>NaN</td>\n",
       "      <td>NaN</td>\n",
       "      <td>...</td>\n",
       "      <td>1.000000</td>\n",
       "      <td>1.0</td>\n",
       "      <td>1.000000</td>\n",
       "      <td>37232</td>\n",
       "      <td>1992987085</td>\n",
       "      <td>1962768663</td>\n",
       "      <td>15</td>\n",
       "      <td>15</td>\n",
       "      <td>23.800</td>\n",
       "      <td>57.407</td>\n",
       "    </tr>\n",
       "    <tr>\n",
       "      <th>1571416</th>\n",
       "      <td>1992998439</td>\n",
       "      <td>1.0</td>\n",
       "      <td>NaN</td>\n",
       "      <td>NaN</td>\n",
       "      <td>NaN</td>\n",
       "      <td>DERLETH</td>\n",
       "      <td>CHRISTINA</td>\n",
       "      <td>NaN</td>\n",
       "      <td>NaN</td>\n",
       "      <td>NaN</td>\n",
       "      <td>...</td>\n",
       "      <td>1.000000</td>\n",
       "      <td>1.0</td>\n",
       "      <td>1.000000</td>\n",
       "      <td>37232</td>\n",
       "      <td>1992998439</td>\n",
       "      <td>1104202761</td>\n",
       "      <td>18</td>\n",
       "      <td>44</td>\n",
       "      <td>0.159</td>\n",
       "      <td>1.055</td>\n",
       "    </tr>\n",
       "    <tr>\n",
       "      <th>1571417</th>\n",
       "      <td>1992998439</td>\n",
       "      <td>1.0</td>\n",
       "      <td>NaN</td>\n",
       "      <td>NaN</td>\n",
       "      <td>NaN</td>\n",
       "      <td>DERLETH</td>\n",
       "      <td>CHRISTINA</td>\n",
       "      <td>NaN</td>\n",
       "      <td>NaN</td>\n",
       "      <td>NaN</td>\n",
       "      <td>...</td>\n",
       "      <td>1.000000</td>\n",
       "      <td>1.0</td>\n",
       "      <td>1.000000</td>\n",
       "      <td>37232</td>\n",
       "      <td>1992998439</td>\n",
       "      <td>1396882205</td>\n",
       "      <td>19</td>\n",
       "      <td>45</td>\n",
       "      <td>0.000</td>\n",
       "      <td>0.000</td>\n",
       "    </tr>\n",
       "    <tr>\n",
       "      <th>1571418</th>\n",
       "      <td>1992998439</td>\n",
       "      <td>1.0</td>\n",
       "      <td>NaN</td>\n",
       "      <td>NaN</td>\n",
       "      <td>NaN</td>\n",
       "      <td>DERLETH</td>\n",
       "      <td>CHRISTINA</td>\n",
       "      <td>NaN</td>\n",
       "      <td>NaN</td>\n",
       "      <td>NaN</td>\n",
       "      <td>...</td>\n",
       "      <td>1.000000</td>\n",
       "      <td>1.0</td>\n",
       "      <td>1.000000</td>\n",
       "      <td>37232</td>\n",
       "      <td>1992998439</td>\n",
       "      <td>1437206232</td>\n",
       "      <td>11</td>\n",
       "      <td>23</td>\n",
       "      <td>12.391</td>\n",
       "      <td>42.832</td>\n",
       "    </tr>\n",
       "  </tbody>\n",
       "</table>\n",
       "<p>922957 rows × 42 columns</p>\n",
       "</div>"
      ],
      "text/plain": [
       "                npi  entity_type_code  replacement_npi  \\\n",
       "0        1003013160               1.0              NaN   \n",
       "1        1003013160               1.0              NaN   \n",
       "2        1003013160               1.0              NaN   \n",
       "3        1003013160               1.0              NaN   \n",
       "4        1003013160               1.0              NaN   \n",
       "...             ...               ...              ...   \n",
       "1571414  1992987085               1.0              NaN   \n",
       "1571415  1992987085               1.0              NaN   \n",
       "1571416  1992998439               1.0              NaN   \n",
       "1571417  1992998439               1.0              NaN   \n",
       "1571418  1992998439               1.0              NaN   \n",
       "\n",
       "        employer_identification_number_ein  \\\n",
       "0                                      NaN   \n",
       "1                                      NaN   \n",
       "2                                      NaN   \n",
       "3                                      NaN   \n",
       "4                                      NaN   \n",
       "...                                    ...   \n",
       "1571414                                NaN   \n",
       "1571415                                NaN   \n",
       "1571416                                NaN   \n",
       "1571417                                NaN   \n",
       "1571418                                NaN   \n",
       "\n",
       "        provider_organization_name_legal_business_name  \\\n",
       "0                                                  NaN   \n",
       "1                                                  NaN   \n",
       "2                                                  NaN   \n",
       "3                                                  NaN   \n",
       "4                                                  NaN   \n",
       "...                                                ...   \n",
       "1571414                                            NaN   \n",
       "1571415                                            NaN   \n",
       "1571416                                            NaN   \n",
       "1571417                                            NaN   \n",
       "1571418                                            NaN   \n",
       "\n",
       "        provider_last_name_legal_name provider_first_name  \\\n",
       "0                         GRABENSTEIN             WILLIAM   \n",
       "1                         GRABENSTEIN             WILLIAM   \n",
       "2                         GRABENSTEIN             WILLIAM   \n",
       "3                         GRABENSTEIN             WILLIAM   \n",
       "4                         GRABENSTEIN             WILLIAM   \n",
       "...                               ...                 ...   \n",
       "1571414                        HORTON             SUSANNE   \n",
       "1571415                        HORTON             SUSANNE   \n",
       "1571416                       DERLETH           CHRISTINA   \n",
       "1571417                       DERLETH           CHRISTINA   \n",
       "1571418                       DERLETH           CHRISTINA   \n",
       "\n",
       "        provider_middle_name provider_name_prefix_text  \\\n",
       "0                         P.                       DR.   \n",
       "1                         P.                       DR.   \n",
       "2                         P.                       DR.   \n",
       "3                         P.                       DR.   \n",
       "4                         P.                       DR.   \n",
       "...                      ...                       ...   \n",
       "1571414                    M                       NaN   \n",
       "1571415                    M                       NaN   \n",
       "1571416                  NaN                       NaN   \n",
       "1571417                  NaN                       NaN   \n",
       "1571418                  NaN                       NaN   \n",
       "\n",
       "        provider_name_suffix_text  ... bus_ratio oth_ratio tot_ratio   zip1  \\\n",
       "0                             NaN  ...  0.001398       0.0  0.003284  37043   \n",
       "1                             NaN  ...  0.001398       0.0  0.003284  37043   \n",
       "2                             NaN  ...  0.001398       0.0  0.003284  37043   \n",
       "3                             NaN  ...  0.001398       0.0  0.003284  37043   \n",
       "4                             NaN  ...  0.001398       0.0  0.003284  37043   \n",
       "...                           ...  ...       ...       ...       ...    ...   \n",
       "1571414                       NaN  ...  1.000000       1.0  1.000000  37232   \n",
       "1571415                       NaN  ...  1.000000       1.0  1.000000  37232   \n",
       "1571416                       NaN  ...  1.000000       1.0  1.000000  37232   \n",
       "1571417                       NaN  ...  1.000000       1.0  1.000000  37232   \n",
       "1571418                       NaN  ...  1.000000       1.0  1.000000  37232   \n",
       "\n",
       "           from_npi      to_npi patient_count transaction_count  \\\n",
       "0        1003013160  1023055126            13                23   \n",
       "1        1003013160  1053316265            14                17   \n",
       "2        1003013160  1073585774            22                32   \n",
       "3        1003013160  1083657829            16                24   \n",
       "4        1003013160  1083819668            21                24   \n",
       "...             ...         ...           ...               ...   \n",
       "1571414  1992987085  1962606939            19                19   \n",
       "1571415  1992987085  1962768663            15                15   \n",
       "1571416  1992998439  1104202761            18                44   \n",
       "1571417  1992998439  1396882205            19                45   \n",
       "1571418  1992998439  1437206232            11                23   \n",
       "\n",
       "        average_day_wait std_day_wait  \n",
       "0                 31.870       36.145  \n",
       "1                 57.294       59.985  \n",
       "2                 48.531       65.231  \n",
       "3                 28.042       35.471  \n",
       "4                 57.125       66.059  \n",
       "...                  ...          ...  \n",
       "1571414            0.895        2.536  \n",
       "1571415           23.800       57.407  \n",
       "1571416            0.159        1.055  \n",
       "1571417            0.000        0.000  \n",
       "1571418           12.391       42.832  \n",
       "\n",
       "[922957 rows x 42 columns]"
      ]
     },
     "execution_count": 22,
     "metadata": {},
     "output_type": "execute_result"
    }
   ],
   "source": []
  },
  {
   "cell_type": "code",
   "execution_count": null,
   "metadata": {},
   "outputs": [],
   "source": [
    "npp_nucc_cbsa_nash_hop_all.to_csv('npp_nucc_cbsa_nash_hopall.csv',index=False)"
   ]
  },
  {
   "cell_type": "code",
   "execution_count": null,
   "metadata": {},
   "outputs": [],
   "source": []
  }
 ],
 "metadata": {
  "kernelspec": {
   "display_name": "Python 3",
   "language": "python",
   "name": "python3"
  },
  "language_info": {
   "codemirror_mode": {
    "name": "ipython",
    "version": 3
   },
   "file_extension": ".py",
   "mimetype": "text/x-python",
   "name": "python",
   "nbconvert_exporter": "python",
   "pygments_lexer": "ipython3",
   "version": "3.8.3"
  }
 },
 "nbformat": 4,
 "nbformat_minor": 4
}
